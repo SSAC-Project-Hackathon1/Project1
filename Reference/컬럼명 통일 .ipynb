{
 "cells": [
  {
   "cell_type": "markdown",
   "metadata": {},
   "source": [
    "## 데이터 설명\n",
    "일일 이력 판매 데이터가 제공됩니다. 작업은 테스트 세트에 대해 모든 상점에서 판매 된 제품의 총량을 예측하는 것입니다. 상점 및 제품 목록은 매달 약간 변경됩니다. 이러한 상황을 처리 할 수 있는 강력한 모델을 만드는 것입니다. \n",
    "\n",
    "\n",
    "## 파일 설명\n",
    "\n",
    "- sales_train.csv- 훈련 세트. 2013 년 1 월부터 2015 년 10 월까지의 일일 기록 데이터.\n",
    "- test.csv- 테스트 세트. 이러한 상점과 제품의 2015 년 11 월 매출을 예측해야합니다.\n",
    "- sample_submission.csv- 올바른 형식의 샘플 제출 파일.\n",
    "- items.csv- 항목 / 제품에 대한 추가 정보.\n",
    "- item_categories.csv-   항목 카테고리에 대한 추가 정보입니다.\n",
    "- shops.csv- 상점에 대한 추가 정보.\n",
    "\n",
    "## 데이터 필드\n",
    "- ID-  테스트 세트 내에서 (Shop, Item) 튜플을 나타내는 Id\n",
    "- shop_id- 가게 id\n",
    "- item_id- 상품 id \n",
    "- item_category_id- 카테고리 이름\n",
    "- item_cnt_day- 판매 된 제품 수입니다. 이 측정 값의 월별 금액을 예측하고 있습니다.\n",
    "- item_price- 상품의 현재 가격\n",
    "- date  -dd / mm / yyyy 형식의 날짜\n",
    "- date_block_num- 편의를 위해 사용되는 연속 된 월 번호. 2013 년 1 월은 0, 2013 년 2 월은 1, ..., 2015 년 10 월은 33입니다.\n",
    "- item_name-  항목 이름\n",
    "- shop_name- 상점 이름\n",
    "- item_category_name- 항목 카테고리 이름\n",
    "\n"
   ]
  },
  {
   "cell_type": "code",
   "execution_count": null,
   "metadata": {},
   "outputs": [],
   "source": []
  }
 ],
 "metadata": {
  "kernelspec": {
   "display_name": "Python 3",
   "language": "python",
   "name": "python3"
  },
  "language_info": {
   "codemirror_mode": {
    "name": "ipython",
    "version": 3
   },
   "file_extension": ".py",
   "mimetype": "text/x-python",
   "name": "python",
   "nbconvert_exporter": "python",
   "pygments_lexer": "ipython3",
   "version": "3.7.9"
  }
 },
 "nbformat": 4,
 "nbformat_minor": 4
}
